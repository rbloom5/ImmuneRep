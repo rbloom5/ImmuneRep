{
 "metadata": {
  "name": "",
  "signature": "sha256:2bfdad500a08e93cad7ba188d08b968e41f4939a9eaa278702bca56a5e6d4d89"
 },
 "nbformat": 3,
 "nbformat_minor": 0,
 "worksheets": [
  {
   "cells": [
    {
     "cell_type": "code",
     "collapsed": false,
     "input": [
      "cwd = os.getcwd()"
     ],
     "language": "python",
     "metadata": {},
     "outputs": [],
     "prompt_number": 41
    },
    {
     "cell_type": "code",
     "collapsed": false,
     "input": [
      "import os"
     ],
     "language": "python",
     "metadata": {},
     "outputs": [],
     "prompt_number": 2
    },
    {
     "cell_type": "code",
     "collapsed": false,
     "input": [
      "print cwd"
     ],
     "language": "python",
     "metadata": {},
     "outputs": [
      {
       "output_type": "stream",
       "stream": "stdout",
       "text": [
        "/Users/ramantalwar/Documents/Python/ImmuneRep\n"
       ]
      }
     ],
     "prompt_number": 42
    },
    {
     "cell_type": "code",
     "collapsed": false,
     "input": [
      "sys.path.append(cwd + \"/external_lib\")"
     ],
     "language": "python",
     "metadata": {},
     "outputs": [],
     "prompt_number": 17
    },
    {
     "cell_type": "code",
     "collapsed": false,
     "input": [
      "import sys"
     ],
     "language": "python",
     "metadata": {},
     "outputs": [],
     "prompt_number": 7
    },
    {
     "cell_type": "code",
     "collapsed": false,
     "input": [
      "echo $PATH"
     ],
     "language": "python",
     "metadata": {},
     "outputs": [
      {
       "ename": "SyntaxError",
       "evalue": "invalid syntax (<ipython-input-9-8ed3354aa877>, line 1)",
       "output_type": "pyerr",
       "traceback": [
        "\u001b[0;36m  File \u001b[0;32m\"<ipython-input-9-8ed3354aa877>\"\u001b[0;36m, line \u001b[0;32m1\u001b[0m\n\u001b[0;31m    echo $PATH\u001b[0m\n\u001b[0m         ^\u001b[0m\n\u001b[0;31mSyntaxError\u001b[0m\u001b[0;31m:\u001b[0m invalid syntax\n"
       ]
      }
     ],
     "prompt_number": 9
    },
    {
     "cell_type": "code",
     "collapsed": false,
     "input": [
      "sys.path"
     ],
     "language": "python",
     "metadata": {},
     "outputs": [
      {
       "metadata": {},
       "output_type": "pyout",
       "prompt_number": 18,
       "text": [
        "['',\n",
        " '//anaconda/lib/python2.7/site-packages/biopython-1.64-py2.7-macosx-10.5-x86_64.egg',\n",
        " '//anaconda/lib/python2.7/site-packages/blist-1.3.6-py2.7-macosx-10.5-x86_64.egg',\n",
        " '//anaconda/lib/python27.zip',\n",
        " '//anaconda/lib/python2.7',\n",
        " '//anaconda/lib/python2.7/plat-darwin',\n",
        " '//anaconda/lib/python2.7/plat-mac',\n",
        " '//anaconda/lib/python2.7/plat-mac/lib-scriptpackages',\n",
        " '//anaconda/lib/python2.7/lib-tk',\n",
        " '//anaconda/lib/python2.7/lib-old',\n",
        " '//anaconda/lib/python2.7/lib-dynload',\n",
        " '//anaconda/lib/python2.7/site-packages',\n",
        " '//anaconda/lib/python2.7/site-packages/PIL',\n",
        " '//anaconda/lib/python2.7/site-packages/Sphinx-1.2.3-py2.7.egg',\n",
        " '//anaconda/lib/python2.7/site-packages/runipy-0.1.1-py2.7.egg',\n",
        " '//anaconda/lib/python2.7/site-packages/setuptools-5.8-py2.7.egg',\n",
        " '//anaconda/lib/python2.7/site-packages/IPython/extensions',\n",
        " '/Users/ramantalwar/Documents/Python/ImmuneRep',\n",
        " '/Users/ramantalwar/Documents/Python/ImmuneRep/external_lib']"
       ]
      }
     ],
     "prompt_number": 18
    },
    {
     "cell_type": "code",
     "collapsed": false,
     "input": [
      "x = cwd + \"/fastq_files\""
     ],
     "language": "python",
     "metadata": {},
     "outputs": [],
     "prompt_number": 43
    },
    {
     "cell_type": "code",
     "collapsed": false,
     "input": [
      "print x"
     ],
     "language": "python",
     "metadata": {},
     "outputs": [
      {
       "output_type": "stream",
       "stream": "stdout",
       "text": [
        "/Users/ramantalwar/Documents/Python/ImmuneRep/fastq_files\n"
       ]
      }
     ],
     "prompt_number": 44
    },
    {
     "cell_type": "code",
     "collapsed": false,
     "input": [
      "os.system(fastq-dump)"
     ],
     "language": "python",
     "metadata": {},
     "outputs": [
      {
       "ename": "NameError",
       "evalue": "name 'fastq' is not defined",
       "output_type": "pyerr",
       "traceback": [
        "\u001b[0;31m---------------------------------------------------------------------------\u001b[0m\n\u001b[0;31mNameError\u001b[0m                                 Traceback (most recent call last)",
        "\u001b[0;32m<ipython-input-21-42cdaad00e62>\u001b[0m in \u001b[0;36m<module>\u001b[0;34m()\u001b[0m\n\u001b[0;32m----> 1\u001b[0;31m \u001b[0mos\u001b[0m\u001b[0;34m.\u001b[0m\u001b[0msystem\u001b[0m\u001b[0;34m(\u001b[0m\u001b[0mfastq\u001b[0m\u001b[0;34m-\u001b[0m\u001b[0mdump\u001b[0m\u001b[0;34m)\u001b[0m\u001b[0;34m\u001b[0m\u001b[0m\n\u001b[0m",
        "\u001b[0;31mNameError\u001b[0m: name 'fastq' is not defined"
       ]
      }
     ],
     "prompt_number": 21
    },
    {
     "cell_type": "code",
     "collapsed": false,
     "input": [
      "r = 'SRR1298742'"
     ],
     "language": "python",
     "metadata": {},
     "outputs": [],
     "prompt_number": 23
    },
    {
     "cell_type": "code",
     "collapsed": false,
     "input": [
      "print r"
     ],
     "language": "python",
     "metadata": {},
     "outputs": [
      {
       "output_type": "stream",
       "stream": "stdout",
       "text": [
        "SRR1298742\n"
       ]
      }
     ],
     "prompt_number": 24
    },
    {
     "cell_type": "code",
     "collapsed": false,
     "input": [
      "fastq_name = cwd + '/fastq_files/'+r+'.fastq'\n",
      "fasta_name = cwd + '/fasta_files/'+r+'.fasta'"
     ],
     "language": "python",
     "metadata": {},
     "outputs": [],
     "prompt_number": 25
    },
    {
     "cell_type": "code",
     "collapsed": false,
     "input": [
      "print fastq_name, fasta_name"
     ],
     "language": "python",
     "metadata": {},
     "outputs": [
      {
       "output_type": "stream",
       "stream": "stdout",
       "text": [
        "/Users/ramantalwar/Documents/Python/ImmuneRep/fastq_files/SRR1298742.fastq /Users/ramantalwar/Documents/Python/ImmuneRep/fasta_files/SRR1298742.fasta\n"
       ]
      }
     ],
     "prompt_number": 26
    },
    {
     "cell_type": "code",
     "collapsed": false,
     "input": [
      "from Bio import SeqIO"
     ],
     "language": "python",
     "metadata": {},
     "outputs": [],
     "prompt_number": 31
    },
    {
     "cell_type": "code",
     "collapsed": false,
     "input": [
      "SeqIO.convert(fastq_name, \"fastq\", fasta_name, \"fasta\")"
     ],
     "language": "python",
     "metadata": {},
     "outputs": [
      {
       "metadata": {},
       "output_type": "pyout",
       "prompt_number": 33,
       "text": [
        "9462"
       ]
      }
     ],
     "prompt_number": 33
    },
    {
     "cell_type": "code",
     "collapsed": false,
     "input": [
      "cmd = ['perl', cwd + '/external_lib/vdjfasta/bin/fasta-vdj-pipeline.pl', \"--file=\"+fasta_name, \"--verbose=1\"]"
     ],
     "language": "python",
     "metadata": {},
     "outputs": [],
     "prompt_number": 35
    },
    {
     "cell_type": "code",
     "collapsed": false,
     "input": [
      "print cmd"
     ],
     "language": "python",
     "metadata": {},
     "outputs": [
      {
       "output_type": "stream",
       "stream": "stdout",
       "text": [
        "['perl', '/Users/ramantalwar/Documents/Python/ImmuneRep/external_lib/vdjfasta/bin/fasta-vdj-pipeline.pl', '--file=/Users/ramantalwar/Documents/Python/ImmuneRep/fasta_files/SRR1298742.fasta', '--verbose=1']\n"
       ]
      }
     ],
     "prompt_number": 36
    },
    {
     "cell_type": "code",
     "collapsed": false,
     "input": [
      "cmd = ['perl', cwd + '/external_lib/vdjfasta/bin/fasta-vdj-pipeline.pl', \"--file=\"+fasta_name, \"--verbose=1\"]"
     ],
     "language": "python",
     "metadata": {},
     "outputs": [],
     "prompt_number": 37
    },
    {
     "cell_type": "code",
     "collapsed": false,
     "input": [
      "print cmd"
     ],
     "language": "python",
     "metadata": {},
     "outputs": [
      {
       "output_type": "stream",
       "stream": "stdout",
       "text": [
        "['perl', '/Users/ramantalwar/Documents/Python/ImmuneRep/external_lib/vdjfasta/bin/fasta-vdj-pipeline.pl', '--file=/Users/ramantalwar/Documents/Python/ImmuneRep/fasta_files/SRR1298742.fasta', '--verbose=1']\n"
       ]
      }
     ],
     "prompt_number": 38
    },
    {
     "cell_type": "code",
     "collapsed": false,
     "input": [
      "import subprocess"
     ],
     "language": "python",
     "metadata": {},
     "outputs": [],
     "prompt_number": 39
    },
    {
     "cell_type": "code",
     "collapsed": false,
     "input": [
      "subprocess.call(cmd)"
     ],
     "language": "python",
     "metadata": {},
     "outputs": [
      {
       "metadata": {},
       "output_type": "pyout",
       "prompt_number": 40,
       "text": [
        "25"
       ]
      }
     ],
     "prompt_number": 40
    },
    {
     "cell_type": "code",
     "collapsed": false,
     "input": [
      "os.system('fastq-dump SRR735691 --outdir '+ x)"
     ],
     "language": "python",
     "metadata": {},
     "outputs": [
      {
       "metadata": {},
       "output_type": "pyout",
       "prompt_number": 45,
       "text": [
        "32512"
       ]
      }
     ],
     "prompt_number": 45
    },
    {
     "cell_type": "code",
     "collapsed": false,
     "input": [
      "cwd = os.getcwd()"
     ],
     "language": "python",
     "metadata": {},
     "outputs": [],
     "prompt_number": 46
    },
    {
     "cell_type": "code",
     "collapsed": false,
     "input": [
      "print cwd"
     ],
     "language": "python",
     "metadata": {},
     "outputs": [
      {
       "output_type": "stream",
       "stream": "stdout",
       "text": [
        "/Users/ramantalwar/Documents/Python/ImmuneRep\n"
       ]
      }
     ],
     "prompt_number": 47
    },
    {
     "cell_type": "code",
     "collapsed": false,
     "input": [
      "longer = cwd + \"/external_lib/sratoolkit/bin\"\n",
      "print longer"
     ],
     "language": "python",
     "metadata": {},
     "outputs": [
      {
       "output_type": "stream",
       "stream": "stdout",
       "text": [
        "/Users/ramantalwar/Documents/Python/ImmuneRep/external_lib/sratoolkit/bin\n"
       ]
      }
     ],
     "prompt_number": 48
    },
    {
     "cell_type": "code",
     "collapsed": false,
     "input": [
      "sys.path.append(longer)"
     ],
     "language": "python",
     "metadata": {},
     "outputs": [],
     "prompt_number": 49
    },
    {
     "cell_type": "code",
     "collapsed": false,
     "input": [
      "sys.path"
     ],
     "language": "python",
     "metadata": {},
     "outputs": [
      {
       "metadata": {},
       "output_type": "pyout",
       "prompt_number": 50,
       "text": [
        "['',\n",
        " '//anaconda/lib/python2.7/site-packages/biopython-1.64-py2.7-macosx-10.5-x86_64.egg',\n",
        " '//anaconda/lib/python2.7/site-packages/blist-1.3.6-py2.7-macosx-10.5-x86_64.egg',\n",
        " '//anaconda/lib/python27.zip',\n",
        " '//anaconda/lib/python2.7',\n",
        " '//anaconda/lib/python2.7/plat-darwin',\n",
        " '//anaconda/lib/python2.7/plat-mac',\n",
        " '//anaconda/lib/python2.7/plat-mac/lib-scriptpackages',\n",
        " '//anaconda/lib/python2.7/lib-tk',\n",
        " '//anaconda/lib/python2.7/lib-old',\n",
        " '//anaconda/lib/python2.7/lib-dynload',\n",
        " '//anaconda/lib/python2.7/site-packages',\n",
        " '//anaconda/lib/python2.7/site-packages/PIL',\n",
        " '//anaconda/lib/python2.7/site-packages/Sphinx-1.2.3-py2.7.egg',\n",
        " '//anaconda/lib/python2.7/site-packages/runipy-0.1.1-py2.7.egg',\n",
        " '//anaconda/lib/python2.7/site-packages/setuptools-5.8-py2.7.egg',\n",
        " '//anaconda/lib/python2.7/site-packages/IPython/extensions',\n",
        " '/Users/ramantalwar/Documents/Python/ImmuneRep',\n",
        " '/Users/ramantalwar/Documents/Python/ImmuneRep/external_lib',\n",
        " '/Users/ramantalwar/Documents/Python/ImmuneRep/external_lib/sratoolkit/bin']"
       ]
      }
     ],
     "prompt_number": 50
    },
    {
     "cell_type": "code",
     "collapsed": false,
     "input": [
      "os.system(\"export PATH=$PATH:\"+cwd+\"/external_lib/sratoolkit/bin\")"
     ],
     "language": "python",
     "metadata": {},
     "outputs": [
      {
       "metadata": {},
       "output_type": "pyout",
       "prompt_number": 51,
       "text": [
        "0"
       ]
      }
     ],
     "prompt_number": 51
    },
    {
     "cell_type": "code",
     "collapsed": false,
     "input": [
      "os.system(\"echo $PATH\")"
     ],
     "language": "python",
     "metadata": {},
     "outputs": [
      {
       "metadata": {},
       "output_type": "pyout",
       "prompt_number": 53,
       "text": [
        "0"
       ]
      }
     ],
     "prompt_number": 53
    },
    {
     "cell_type": "code",
     "collapsed": false,
     "input": [
      "cwd = os.getcwd()"
     ],
     "language": "python",
     "metadata": {},
     "outputs": [],
     "prompt_number": 54
    },
    {
     "cell_type": "code",
     "collapsed": false,
     "input": [
      "cwd"
     ],
     "language": "python",
     "metadata": {},
     "outputs": [
      {
       "metadata": {},
       "output_type": "pyout",
       "prompt_number": 55,
       "text": [
        "'/Users/ramantalwar/Documents/Python/ImmuneRep'"
       ]
      }
     ],
     "prompt_number": 55
    },
    {
     "cell_type": "code",
     "collapsed": false,
     "input": [
      "r = 'SRR735691'"
     ],
     "language": "python",
     "metadata": {},
     "outputs": [],
     "prompt_number": 56
    },
    {
     "cell_type": "code",
     "collapsed": false,
     "input": [
      "qcFileString = cwd + \"/QCreports/\" + r + \"_fastqc.html\"\n",
      "print qcFileString"
     ],
     "language": "python",
     "metadata": {},
     "outputs": [
      {
       "output_type": "stream",
       "stream": "stdout",
       "text": [
        "/Users/ramantalwar/Documents/Python/ImmuneRep/QCreports/SRR735691_fastqc.html\n"
       ]
      }
     ],
     "prompt_number": 57
    },
    {
     "cell_type": "code",
     "collapsed": false,
     "input": [
      "if not os.path.isdir('./QCreports'):\n",
      "\tos.system('mkdir ./QCreports')"
     ],
     "language": "python",
     "metadata": {},
     "outputs": [],
     "prompt_number": 58
    },
    {
     "cell_type": "code",
     "collapsed": false,
     "input": [
      "cwd = os.getcwd()\n",
      "print cwd"
     ],
     "language": "python",
     "metadata": {},
     "outputs": [
      {
       "output_type": "stream",
       "stream": "stdout",
       "text": [
        "/Users/ramantalwar/Documents/Python/ImmuneRep\n"
       ]
      }
     ],
     "prompt_number": 59
    },
    {
     "cell_type": "code",
     "collapsed": false,
     "input": [
      "print fastq_name"
     ],
     "language": "python",
     "metadata": {},
     "outputs": [
      {
       "output_type": "stream",
       "stream": "stdout",
       "text": [
        "/Users/ramantalwar/Documents/Python/ImmuneRep/fastq_files/SRR1298742.fastq\n"
       ]
      }
     ],
     "prompt_number": 60
    },
    {
     "cell_type": "code",
     "collapsed": false,
     "input": [],
     "language": "python",
     "metadata": {},
     "outputs": []
    }
   ],
   "metadata": {}
  }
 ]
}